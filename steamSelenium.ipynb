{
 "cells": [
  {
   "cell_type": "code",
   "id": "initial_id",
   "metadata": {
    "collapsed": true,
    "ExecuteTime": {
     "end_time": "2024-04-30T13:37:52.893374500Z",
     "start_time": "2024-04-30T13:37:26.488536100Z"
    }
   },
   "source": [
    "import requests\n",
    "from bs4 import BeautifulSoup\n",
    "import re\n",
    "import pandas as pd\n",
    "from selenium import webdriver\n",
    "from selenium.webdriver.common.by import By\n",
    "from selenium.webdriver.support import expected_conditions as EC\n",
    "from selenium.webdriver.support.ui import WebDriverWait\n",
    "\n",
    "website = 'https://store.steampowered.com/search/?filter=topsellers'\n",
    "\n",
    "response = requests.get(website)\n",
    "if response.status_code == 200:\n",
    "    page_source = response.content\n",
    "else:\n",
    "    print(\"Failed to fetch webpage:\", response.status_code)\n",
    "    exit()\n",
    "    \n",
    "soup = BeautifulSoup(page_source, features=\"html.parser\")\n",
    "\n",
    "driver = webdriver.Firefox()\n",
    "driver.get(website)\n",
    "\n",
    "wait = WebDriverWait(driver, 10)\n",
    "wait.until(EC.url_to_be(website))\n",
    "\n",
    "WebDriverWait(driver, 60).until(EC.element_to_be_clickable((By.ID, \"acceptAllButton\")))\n",
    "driver.find_element(By.ID, 'acceptAllButton').click()\n",
    "\n",
    "lambdaBsFind = lambda bsVariable, htmlType, className: bsVariable.find(htmlType, class_=className)\n",
    "\n",
    "titleprices = soup.find_all('div', class_='responsive_search_nam`e_combined')\n",
    "counter = 1\n",
    "gdf = pd.DataFrame()\n",
    "gdf['game'] = ''\n",
    "gdf['price'] = 0\n",
    "gdf['discout'] = ''\n",
    "for titleprice in titleprices:\n",
    "    title = lambdaBsFind(titleprice, 'span', 'title').getText()\n",
    "    price = lambdaBsFind(titleprice, 'div', 'discount_final_price').getText()\n",
    "    priceNum = re.sub(r'(Free)', '0', price)\n",
    "    priceNum = re.sub(r'(zł)|\\s*', '', priceNum)\n",
    "    priceNum = re.sub(r'\\,', '.', priceNum)\n",
    "    priceNum = float(priceNum)\n",
    "    discount = lambdaBsFind(titleprice, 'div', 'discount_pct')\n",
    "    if discount is None:\n",
    "        discount = '0%'\n",
    "    else:\n",
    "        discount = discount.getText()\n",
    "    print('The ' + str(counter) + ' game ' + title + ' is for ' + price + ' Złoty with a discount of ' + discount)\n",
    "    gdf.loc[len(gdf.index)] = [title, priceNum, discount]\n",
    "    counter += 1"
   ],
   "outputs": [],
   "execution_count": 93
  },
  {
   "metadata": {
    "ExecuteTime": {
     "end_time": "2024-04-30T13:38:41.151152100Z",
     "start_time": "2024-04-30T13:38:41.120898600Z"
    }
   },
   "cell_type": "code",
   "source": [
    "# The Pandas gameframe Top Sellers \n",
    "gdf"
   ],
   "id": "ca2044a4db221808",
   "outputs": [
    {
     "data": {
      "text/plain": "Empty DataFrame\nColumns: [game, price, discout]\nIndex: []",
      "text/html": "<div>\n<style scoped>\n    .dataframe tbody tr th:only-of-type {\n        vertical-align: middle;\n    }\n\n    .dataframe tbody tr th {\n        vertical-align: top;\n    }\n\n    .dataframe thead th {\n        text-align: right;\n    }\n</style>\n<table border=\"1\" class=\"dataframe\">\n  <thead>\n    <tr style=\"text-align: right;\">\n      <th></th>\n      <th>game</th>\n      <th>price</th>\n      <th>discout</th>\n    </tr>\n  </thead>\n  <tbody>\n  </tbody>\n</table>\n</div>"
     },
     "execution_count": 95,
     "metadata": {},
     "output_type": "execute_result"
    }
   ],
   "execution_count": 95
  },
  {
   "cell_type": "code",
   "execution_count": 94,
   "outputs": [],
   "source": [],
   "metadata": {
    "collapsed": false,
    "ExecuteTime": {
     "end_time": "2024-04-30T13:37:52.970957300Z",
     "start_time": "2024-04-30T13:37:52.931069200Z"
    }
   },
   "id": "161770add31c66e8"
  }
 ],
 "metadata": {
  "kernelspec": {
   "display_name": "Python 3",
   "language": "python",
   "name": "python3"
  },
  "language_info": {
   "codemirror_mode": {
    "name": "ipython",
    "version": 2
   },
   "file_extension": ".py",
   "mimetype": "text/x-python",
   "name": "python",
   "nbconvert_exporter": "python",
   "pygments_lexer": "ipython2",
   "version": "2.7.6"
  }
 },
 "nbformat": 4,
 "nbformat_minor": 5
}
